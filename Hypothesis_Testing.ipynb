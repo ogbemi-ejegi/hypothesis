{
  "nbformat": 4,
  "nbformat_minor": 0,
  "metadata": {
    "colab": {
      "provenance": [],
      "authorship_tag": "ABX9TyOWn8ndGFj3ynkhovRf8OE+",
      "include_colab_link": true
    },
    "kernelspec": {
      "name": "python3",
      "display_name": "Python 3"
    },
    "language_info": {
      "name": "python"
    }
  },
  "cells": [
    {
      "cell_type": "markdown",
      "metadata": {
        "id": "view-in-github",
        "colab_type": "text"
      },
      "source": [
        "<a href=\"https://colab.research.google.com/github/ogbemi-ejegi/hypothesis/blob/main/Hypothesis_Testing.ipynb\" target=\"_parent\"><img src=\"https://colab.research.google.com/assets/colab-badge.svg\" alt=\"Open In Colab\"/></a>"
      ]
    },
    {
      "cell_type": "code",
      "execution_count": null,
      "metadata": {
        "colab": {
          "base_uri": "https://localhost:8080/"
        },
        "id": "Egf_hCFNzAmE",
        "outputId": "e52dd9c8-7c3f-4527-ce7a-cf99630f566c"
      },
      "outputs": [
        {
          "output_type": "stream",
          "name": "stdout",
          "text": [
            "Test statistic: -2.7298818439372803\n",
            "p-value: 0.007500082795984162\n",
            "Reject the null hypothesis.\n"
          ]
        }
      ],
      "source": [
        "import numpy as np\n",
        "import scipy.stats as stats\n",
        "\n",
        "# Create a dummy dataset of 10 year old children's weight\n",
        "data = np.random.randint(20, 40, 100)\n",
        "\n",
        "# Define the null hypothesis\n",
        "H0 = \"The average weight of 10 year old children is 32kg.\"\n",
        "\n",
        "# Define the alternative hypothesis\n",
        "H1 = \"The average weight of 10 year old children is more than 32kg.\"\n",
        "\n",
        "# Calculate the test statistic\n",
        "t_stat, p_value = stats.ttest_1samp(data, 32)\n",
        "\n",
        "# Print the results\n",
        "print(\"Test statistic:\", t_stat)\n",
        "print(\"p-value:\", p_value)\n",
        "\n",
        "# Conclusion\n",
        "if p_value < 0.05:\n",
        "    print(\"Reject the null hypothesis.\")\n",
        "else:\n",
        "    print(\"Fail to reject the null hypothesis.\")\n"
      ]
    }
  ]
}